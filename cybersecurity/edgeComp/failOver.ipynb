{
 "cells": [
  {
   "cell_type": "markdown",
   "metadata": {},
   "source": []
  },
  {
   "cell_type": "code",
   "execution_count": null,
   "metadata": {},
   "outputs": [],
   "source": [
    "# Define a class to represent a data center.\n",
    "class DataCenter:\n",
    "    # Initialize a new Data Center with a name and its active status. By default, a data center is active.\n",
    "    def __init__(self, name, is_active=True):\n",
    "        self.name = name  # Name of the data center.\n",
    "        self.is_active = is_active  # Boolean indicating if the data center is currently active.\n",
    "        self.documents = {}  # Dictionary to store documents by their ID.\n",
    "\n",
    "    # Method to update or add a document in this data center if it's active.\n",
    "    def update_document(self, doc_id, content):\n",
    "        if self.is_active:\n",
    "            self.documents[doc_id] = content  # Update the document content.\n",
    "            print(f\"Document {doc_id} updated in {self.name}\")\n",
    "        else:\n",
    "            print(f\"Failed to update in {self.name}: DataCenter not active\")\n",
    "\n",
    "# A function that attempts to update a document in the primary data center, but uses backup centers if the primary is inactive.\n",
    "def failover_system(primary, backups, doc_id, content):\n",
    "    if primary.is_active:\n",
    "        primary.update_document(doc_id, content)  # Try updating in the primary center first.\n",
    "    else:\n",
    "        for backup in backups:  # If primary is down, iterate through the list of backups.\n",
    "            if backup.is_active:  # Check if the backup is active.\n",
    "                backup.update_document(doc_id, content)  # Update the document in the first active backup found.\n",
    "                break  # Exit loop after successful update.\n",
    "\n",
    "# Example usage\n",
    "primary_dc = DataCenter(\"Primary DataCenter\")  # Creating the primary data center.\n",
    "backup_dc1 = DataCenter(\"Backup DataCenter 1\")  # Creating the first backup data center.\n",
    "backup_dc2 = DataCenter(\"Backup DataCenter 2\", is_active=False)  # Creating a second backup, marked as inactive to simulate a failure.\n",
    "\n",
    "# Attempting to update a document, utilizing the failover system in case the primary data center is down.\n",
    "failover_system(primary_dc, [backup_dc1, backup_dc2], \"Doc2\", \"Important Legal Information\")\n",
    "\n"
   ]
  }
 ],
 "metadata": {
  "language_info": {
   "name": "python"
  }
 },
 "nbformat": 4,
 "nbformat_minor": 2
}
