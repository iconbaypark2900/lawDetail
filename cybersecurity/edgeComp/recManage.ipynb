{
 "cells": [
  {
   "cell_type": "markdown",
   "metadata": {},
   "source": []
  },
  {
   "cell_type": "code",
   "execution_count": null,
   "metadata": {},
   "outputs": [],
   "source": [
    "# Defines an EdgeNode class to represent edge nodes in a networked document management system.\n",
    "class EdgeNode:\n",
    "    def __init__(self, name):\n",
    "        self.name = name  # Name of the edge node.\n",
    "        self.documents = {}  # Dictionary to store documents by their ID.\n",
    "\n",
    "    # Method to update or add a document in this edge node.\n",
    "    def update_document(self, doc_id, content):\n",
    "        self.documents[doc_id] = content  # Update the document content.\n",
    "        print(f\"Document {doc_id} updated at {self.name}\")  # Print confirmation message.\n",
    "\n",
    "# Defines a CentralRepository class for managing the central storage of documents.\n",
    "class CentralRepository:\n",
    "    def __init__(self):\n",
    "        self.documents = {}  # Dictionary to store documents centrally by their ID.\n",
    "    \n",
    "    # Method to update or add a document in the central repository.\n",
    "    def update_document(self, doc_id, content):\n",
    "        self.documents[doc_id] = content  # Update the document content.\n",
    "        print(f\"Document {doc_id} updated in Central Repository\")  # Print confirmation message.\n",
    "\n",
    "    # Method to synchronize documents from the central repository to all provided edge nodes.\n",
    "    def sync_with_edge(self, edge_nodes):\n",
    "        for doc_id, content in self.documents.items():  # Iterate through each document in the central repository.\n",
    "            for node in edge_nodes:  # For each document, iterate through the list of edge nodes.\n",
    "                node.update_document(doc_id, content)  # Update the document at each edge node with the central version.\n",
    "\n",
    "# Example usage\n",
    "central_repo = CentralRepository()  # Instantiate the central repository.\n",
    "edge_node1 = EdgeNode(\"Edge Node 1\")  # Create the first edge node.\n",
    "edge_node2 = EdgeNode(\"Edge Node 2\")  # Create the second edge node.\n",
    "\n",
    "# Updating a document in the central repository.\n",
    "central_repo.update_document(\"Doc1\", \"Confidential Content\")\n",
    "\n",
    "# Synchronizing the updated document with edge nodes to ensure data consistency across the system.\n",
    "central_repo.sync_with_edge([edge_node1, edge_node2])\n",
    "\n"
   ]
  }
 ],
 "metadata": {
  "language_info": {
   "name": "python"
  }
 },
 "nbformat": 4,
 "nbformat_minor": 2
}
