{
 "cells": [
  {
   "cell_type": "markdown",
   "metadata": {},
   "source": []
  },
  {
   "cell_type": "code",
   "execution_count": null,
   "metadata": {},
   "outputs": [],
   "source": [
    "# Import the sha256 function from the hashlib library to generate hash values.\n",
    "from hashlib import sha256\n",
    "\n",
    "def create_block(content, previous_hash=\"\"):\n",
    "    \"\"\"\n",
    "    Creates a new block in the blockchain.\n",
    "\n",
    "    Args:\n",
    "    content (str): The content or data to be included in the block.\n",
    "    previous_hash (str): The hash of the previous block in the chain. Defaults to an empty string.\n",
    "\n",
    "    Returns:\n",
    "    str: The hash of the newly created block.\n",
    "    \"\"\"\n",
    "    # Concatenate the content with the previous block's hash to form the block string.\n",
    "    block_string = f\"{content}{previous_hash}\"\n",
    "    # Generate a SHA-256 hash of the block string. The hash serves as the block's unique identifier.\n",
    "    block_hash = sha256(block_string.encode()).hexdigest()\n",
    "    return block_hash\n",
    "\n",
    "def add_to_blockchain(blockchain, new_data):\n",
    "    \"\"\"\n",
    "    Adds a new block to the blockchain.\n",
    "\n",
    "    Args:\n",
    "    blockchain (list): The blockchain represented as a list of block hashes.\n",
    "    new_data (str): The data to be stored in the new block.\n",
    "\n",
    "    Returns:\n",
    "    str: The hash of the newly added block.\n",
    "    \"\"\"\n",
    "    # Get the hash of the last block in the blockchain if it exists, or use an empty string.\n",
    "    previous_hash = blockchain[-1] if blockchain else \"\"\n",
    "    # Create a new block with the provided data and the hash of the previous block.\n",
    "    new_block_hash = create_block(new_data, previous_hash)\n",
    "    # Append the hash of the new block to the blockchain.\n",
    "    blockchain.append(new_block_hash)\n",
    "    return new_block_hash\n",
    "\n",
    "# Example usage of the blockchain\n",
    "# Initialize an empty list to represent the blockchain.\n",
    "blockchain = []\n",
    "# Add a new block containing energy usage data for 01/01/2024.\n",
    "add_to_blockchain(blockchain, \"Energy usage data for 01/01/2024\")\n",
    "# Add another block with data for the next day.\n",
    "add_to_blockchain(blockchain, \"Energy usage data for 01/02/2024\")\n",
    "\n",
    "# Print the current state of the blockchain, displaying the hashes of all blocks.\n",
    "print(\"Blockchain:\", blockchain)\n",
    "\n"
   ]
  }
 ],
 "metadata": {
  "language_info": {
   "name": "python"
  }
 },
 "nbformat": 4,
 "nbformat_minor": 2
}
