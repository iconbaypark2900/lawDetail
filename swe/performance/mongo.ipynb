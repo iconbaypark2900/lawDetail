{
 "cells": [
  {
   "cell_type": "markdown",
   "metadata": {},
   "source": []
  },
  {
   "cell_type": "code",
   "execution_count": null,
   "metadata": {},
   "outputs": [],
   "source": [
    "from pymongo import MongoClient\n",
    "\n",
    "# Establish a connection to the MongoDB instance.\n",
    "client = MongoClient('mongodb://localhost:27017/')\n",
    "# Select the database within MongoDB where operations will be performed.\n",
    "db = client.legallogix_db\n",
    "\n",
    "# Insert a document into the 'documents' collection. This document includes nested structures and arrays.\n",
    "db.documents.insert_one({\n",
    "    \"title\": \"Case File: 001\",\n",
    "    \"defendant\": \"Ann Walker\",\n",
    "    \"charges\": [\n",
    "        {\"description\": \"Aggravated Fleeing\", \"date\": \"2024-01-01\", \"outcome\": \"Pending\"},\n",
    "        {\"description\": \"Larceny Theft\", \"date\": \"2024-01-02\", \"outcome\": \"Convicted\"}\n",
    "    ],\n",
    "    \"filed_on\": \"2024-01-01\",\n",
    "    \"status\": \"Open\",\n",
    "    \"annotations\": [\n",
    "        {\"author\": \"John Doe\", \"text\": \"Important case for precedent.\", \"date\": \"2024-02-01\"}\n",
    "    ]\n",
    "})\n"
   ]
  },
  {
   "cell_type": "markdown",
   "metadata": {},
   "source": []
  },
  {
   "cell_type": "code",
   "execution_count": null,
   "metadata": {},
   "outputs": [],
   "source": [
    "# Query the 'documents' collection to find all documents where \"Ann Walker\" is listed as the defendant.\n",
    "cases = db.documents.find({\"defendant\": \"Ann Walker\"})\n",
    "\n",
    "# Query the 'documents' collection to find all documents that contain charges with an \"outcome\" of \"Convicted\".\n",
    "convicted_charges = db.documents.find({\"charges.outcome\": \"Convicted\"})\n"
   ]
  },
  {
   "cell_type": "markdown",
   "metadata": {},
   "source": []
  },
  {
   "cell_type": "code",
   "execution_count": null,
   "metadata": {},
   "outputs": [],
   "source": [
    "from pymongo import WriteConcern\n",
    "from pymongo.read_concern import ReadConcern\n",
    "from pymongo.read_preferences import ReadPreference\n",
    "\n",
    "# Initiating a session for a transaction to ensure atomic operations.\n",
    "with client.start_session() as session:\n",
    "    # Start the transaction with specific read and write concerns and read preference.\n",
    "    session.start_transaction(\n",
    "        read_concern=ReadConcern(\"local\"),  # Specifies the read concern level for the transaction.\n",
    "        write_concern=WriteConcern(\"majority\"),  # Specifies the write concern level to ensure writes are acknowledged by a majority.\n",
    "        read_preference=ReadPreference.PRIMARY  # Specifies that reads during the transaction should be from the primary replica set member.\n",
    "    )\n",
    "\n",
    "    try:\n",
    "        # Within the transaction, update the status of a specific document and insert a log entry into the 'audit_log' collection.\n",
    "        db.documents.update_one({\"title\": \"Case File: 001\"}, {\"$set\": {\"status\": \"Closed\"}}, session=session)\n",
    "        db.audit_log.insert_one({\"message\": \"Closed Case File: 001\", \"date\": \"2024-03-01\"}, session=session)\n",
    "        \n",
    "        # If the above operations are successful, commit the transaction.\n",
    "        session.commit_transaction()\n",
    "    except Exception as e:\n",
    "        # If there's an error during the transaction, output the error message and abort the transaction.\n",
    "        print(f\"Transaction aborted due to an error: {e}\")\n",
    "        session.abort_transaction()\n",
    "\n"
   ]
  }
 ],
 "metadata": {
  "language_info": {
   "name": "python"
  }
 },
 "nbformat": 4,
 "nbformat_minor": 2
}
