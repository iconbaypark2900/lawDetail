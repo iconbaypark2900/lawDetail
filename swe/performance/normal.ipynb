{
 "cells": [
  {
   "cell_type": "markdown",
   "metadata": {},
   "source": []
  },
  {
   "cell_type": "code",
   "execution_count": null,
   "metadata": {},
   "outputs": [],
   "source": [
    "import sqlite3\n",
    "\n",
    "def setup_database():\n",
    "    conn = sqlite3.connect('legallogix_extended.db')\n",
    "    cur = conn.cursor()\n",
    "\n",
    "    # Drop existing tables for a clean setup\n",
    "    cur.executescript('''\n",
    "    DROP TABLE IF EXISTS Defendants;\n",
    "    DROP TABLE IF EXISTS Charges;\n",
    "    DROP TABLE IF EXISTS CaseFiles;\n",
    "    ''')\n",
    "\n",
    "    # Create tables with normalized structure\n",
    "    cur.executescript('''\n",
    "    CREATE TABLE Defendants (\n",
    "        ID INTEGER PRIMARY KEY AUTOINCREMENT,\n",
    "        DefendantName TEXT UNIQUE NOT NULL\n",
    "    );\n",
    "\n",
    "    CREATE TABLE Charges (\n",
    "        ChargeID INTEGER PRIMARY KEY AUTOINCREMENT,\n",
    "        Charge TEXT NOT NULL\n",
    "    );\n",
    "\n",
    "    CREATE TABLE CaseFiles (\n",
    "        FileID INTEGER PRIMARY KEY AUTOINCREMENT,\n",
    "        DefendantID INTEGER,\n",
    "        ChargeID INTEGER,\n",
    "        Description TEXT NOT NULL,\n",
    "        FOREIGN KEY(DefendantID) REFERENCES Defendants(ID),\n",
    "        FOREIGN KEY(ChargeID) REFERENCES Charges(ChargeID)\n",
    "    );\n",
    "    ''')\n",
    "\n",
    "    # Insert sample data into Defendants and Charges table\n",
    "    defendants = ['Ann Walker', 'Juan Stewart']\n",
    "    charges = ['AGGRAVATED FLEE OR ATTEMPT TO ELUDE POLICE', 'LARCENY THEFT IS $300 OR MORE BUT LESS THAN $5000']\n",
    "\n",
    "    for defendant in defendants:\n",
    "        cur.execute('INSERT INTO Defendants (DefendantName) VALUES (?)', (defendant,))\n",
    "    \n",
    "    for charge in charges:\n",
    "        cur.execute('INSERT INTO Charges (Charge) VALUES (?)', (charge,))\n",
    "\n",
    "    # Assuming IDs for simplicity\n",
    "    cur.execute('INSERT INTO CaseFiles (DefendantID, ChargeID, Description) VALUES (1, 1, \"Case Description 1\")')\n",
    "    cur.execute('INSERT INTO CaseFiles (DefendantID, ChargeID, Description) VALUES (2, 2, \"Case Description 2\")')\n",
    "\n",
    "    conn.commit()\n",
    "    conn.close()\n",
    "\n",
    "setup_database()\n"
   ]
  }
 ],
 "metadata": {
  "language_info": {
   "name": "python"
  }
 },
 "nbformat": 4,
 "nbformat_minor": 2
}
